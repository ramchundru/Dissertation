{
 "cells": [
  {
   "cell_type": "code",
   "execution_count": null,
   "metadata": {
    "colab": {},
    "colab_type": "code",
    "collapsed": true,
    "deletable": true,
    "editable": true,
    "id": "Zjy2Aq6JkSsR"
   },
   "outputs": [],
   "source": [
    "import pandas as pd\n",
    "import numpy as np\n",
    "from sklearn.model_selection import train_test_split\n",
    "from keras.models import Sequential\n",
    "from keras.layers import Dense\n",
    "from keras.layers import Flatten\n",
    "from keras.layers import Dropout\n",
    "from keras.layers import LSTM\n",
    "from keras.layers import TimeDistributed\n",
    "from keras.layers.convolutional import Conv1D,MaxPooling1D\n",
    "from keras.utils import to_categorical\n",
    "from keras import metrics\n",
    "import matplotlib.pyplot as plt"
   ]
  },
  {
   "cell_type": "code",
   "execution_count": null,
   "metadata": {
    "colab": {},
    "colab_type": "code",
    "collapsed": false,
    "deletable": true,
    "editable": true,
    "id": "fOQaxgj2kSsU",
    "outputId": "a6cc5b59-6244-40e7-b335-2170c0a64131"
   },
   "outputs": [
    {
     "name": "stderr",
     "output_type": "stream",
     "text": [
      "C:\\Users\\soura\\Anaconda3\\lib\\site-packages\\IPython\\core\\interactiveshell.py:3057: DtypeWarning: Columns (0) have mixed types. Specify dtype option on import or set low_memory=False.\n",
      "  interactivity=interactivity, compiler=compiler, result=result)\n"
     ]
    },
    {
     "data": {
      "text/plain": [
       "(1000000, 114)"
      ]
     },
     "execution_count": 2,
     "metadata": {
      "tags": []
     },
     "output_type": "execute_result"
    }
   ],
   "source": [
    "data= pd.read_csv('/url_svmlight/url_svmlight/all.csv',header = None)\n",
    "data = data[0:1000000]\n",
    "label = data[0]\n",
    "label = label.replace(-1,0)\n",
    "data = data.drop(0,axis=1)\n",
    "data.shape"
   ]
  },
  {
   "cell_type": "code",
   "execution_count": null,
   "metadata": {
    "colab": {},
    "colab_type": "code",
    "collapsed": false,
    "deletable": true,
    "editable": true,
    "id": "WEaL3--SkSsY",
    "outputId": "245d4d9f-1aa5-4903-ad48-f10b183fa32f"
   },
   "outputs": [
    {
     "data": {
      "text/html": [
       "<div>\n",
       "<style scoped>\n",
       "    .dataframe tbody tr th:only-of-type {\n",
       "        vertical-align: middle;\n",
       "    }\n",
       "\n",
       "    .dataframe tbody tr th {\n",
       "        vertical-align: top;\n",
       "    }\n",
       "\n",
       "    .dataframe thead th {\n",
       "        text-align: right;\n",
       "    }\n",
       "</style>\n",
       "<table border=\"1\" class=\"dataframe\">\n",
       "  <thead>\n",
       "    <tr style=\"text-align: right;\">\n",
       "      <th></th>\n",
       "      <th>1</th>\n",
       "      <th>2</th>\n",
       "      <th>3</th>\n",
       "      <th>4</th>\n",
       "      <th>5</th>\n",
       "      <th>6</th>\n",
       "      <th>7</th>\n",
       "      <th>8</th>\n",
       "      <th>9</th>\n",
       "      <th>10</th>\n",
       "      <th>...</th>\n",
       "      <th>105</th>\n",
       "      <th>106</th>\n",
       "      <th>107</th>\n",
       "      <th>108</th>\n",
       "      <th>109</th>\n",
       "      <th>110</th>\n",
       "      <th>111</th>\n",
       "      <th>112</th>\n",
       "      <th>113</th>\n",
       "      <th>114</th>\n",
       "    </tr>\n",
       "  </thead>\n",
       "  <tbody>\n",
       "    <tr>\n",
       "      <th>0</th>\n",
       "      <td>0.0</td>\n",
       "      <td>0.0</td>\n",
       "      <td>0.0</td>\n",
       "      <td>0.078838</td>\n",
       "      <td>0.124138</td>\n",
       "      <td>0.117647</td>\n",
       "      <td>0.0</td>\n",
       "      <td>0.0</td>\n",
       "      <td>0.0</td>\n",
       "      <td>0.0</td>\n",
       "      <td>...</td>\n",
       "      <td>0.0</td>\n",
       "      <td>1.0</td>\n",
       "      <td>0.0</td>\n",
       "      <td>1.0</td>\n",
       "      <td>0.0</td>\n",
       "      <td>1.0</td>\n",
       "      <td>0.0</td>\n",
       "      <td>1.0</td>\n",
       "      <td>0.0</td>\n",
       "      <td>0.0</td>\n",
       "    </tr>\n",
       "    <tr>\n",
       "      <th>1</th>\n",
       "      <td>0.0</td>\n",
       "      <td>1.0</td>\n",
       "      <td>0.0</td>\n",
       "      <td>0.165975</td>\n",
       "      <td>0.103448</td>\n",
       "      <td>0.176471</td>\n",
       "      <td>0.0</td>\n",
       "      <td>0.0</td>\n",
       "      <td>0.0</td>\n",
       "      <td>0.0</td>\n",
       "      <td>...</td>\n",
       "      <td>0.0</td>\n",
       "      <td>1.0</td>\n",
       "      <td>0.0</td>\n",
       "      <td>1.0</td>\n",
       "      <td>0.0</td>\n",
       "      <td>1.0</td>\n",
       "      <td>0.0</td>\n",
       "      <td>1.0</td>\n",
       "      <td>0.0</td>\n",
       "      <td>0.0</td>\n",
       "    </tr>\n",
       "    <tr>\n",
       "      <th>2</th>\n",
       "      <td>0.0</td>\n",
       "      <td>1.0</td>\n",
       "      <td>0.0</td>\n",
       "      <td>0.091286</td>\n",
       "      <td>0.144828</td>\n",
       "      <td>0.117647</td>\n",
       "      <td>0.0</td>\n",
       "      <td>0.0</td>\n",
       "      <td>0.0</td>\n",
       "      <td>1.0</td>\n",
       "      <td>...</td>\n",
       "      <td>0.0</td>\n",
       "      <td>1.0</td>\n",
       "      <td>0.0</td>\n",
       "      <td>1.0</td>\n",
       "      <td>0.0</td>\n",
       "      <td>1.0</td>\n",
       "      <td>0.0</td>\n",
       "      <td>1.0</td>\n",
       "      <td>0.0</td>\n",
       "      <td>0.0</td>\n",
       "    </tr>\n",
       "    <tr>\n",
       "      <th>3</th>\n",
       "      <td>0.0</td>\n",
       "      <td>0.0</td>\n",
       "      <td>0.0</td>\n",
       "      <td>0.058091</td>\n",
       "      <td>0.089655</td>\n",
       "      <td>0.176471</td>\n",
       "      <td>0.0</td>\n",
       "      <td>0.0</td>\n",
       "      <td>0.0</td>\n",
       "      <td>0.0</td>\n",
       "      <td>...</td>\n",
       "      <td>0.0</td>\n",
       "      <td>1.0</td>\n",
       "      <td>0.0</td>\n",
       "      <td>1.0</td>\n",
       "      <td>0.0</td>\n",
       "      <td>1.0</td>\n",
       "      <td>0.0</td>\n",
       "      <td>1.0</td>\n",
       "      <td>0.0</td>\n",
       "      <td>0.0</td>\n",
       "    </tr>\n",
       "    <tr>\n",
       "      <th>4</th>\n",
       "      <td>0.0</td>\n",
       "      <td>1.0</td>\n",
       "      <td>0.0</td>\n",
       "      <td>0.078838</td>\n",
       "      <td>0.131034</td>\n",
       "      <td>0.117647</td>\n",
       "      <td>0.0</td>\n",
       "      <td>0.0</td>\n",
       "      <td>0.0</td>\n",
       "      <td>1.0</td>\n",
       "      <td>...</td>\n",
       "      <td>0.0</td>\n",
       "      <td>1.0</td>\n",
       "      <td>0.0</td>\n",
       "      <td>1.0</td>\n",
       "      <td>0.0</td>\n",
       "      <td>1.0</td>\n",
       "      <td>0.0</td>\n",
       "      <td>1.0</td>\n",
       "      <td>0.0</td>\n",
       "      <td>0.0</td>\n",
       "    </tr>\n",
       "  </tbody>\n",
       "</table>\n",
       "<p>5 rows × 114 columns</p>\n",
       "</div>"
      ],
      "text/plain": [
       "   1    2    3         4         5         6    7    8    9    10   ...  105  \\\n",
       "0  0.0  0.0  0.0  0.078838  0.124138  0.117647  0.0  0.0  0.0  0.0  ...  0.0   \n",
       "1  0.0  1.0  0.0  0.165975  0.103448  0.176471  0.0  0.0  0.0  0.0  ...  0.0   \n",
       "2  0.0  1.0  0.0  0.091286  0.144828  0.117647  0.0  0.0  0.0  1.0  ...  0.0   \n",
       "3  0.0  0.0  0.0  0.058091  0.089655  0.176471  0.0  0.0  0.0  0.0  ...  0.0   \n",
       "4  0.0  1.0  0.0  0.078838  0.131034  0.117647  0.0  0.0  0.0  1.0  ...  0.0   \n",
       "\n",
       "   106  107  108  109  110  111  112  113  114  \n",
       "0  1.0  0.0  1.0  0.0  1.0  0.0  1.0  0.0  0.0  \n",
       "1  1.0  0.0  1.0  0.0  1.0  0.0  1.0  0.0  0.0  \n",
       "2  1.0  0.0  1.0  0.0  1.0  0.0  1.0  0.0  0.0  \n",
       "3  1.0  0.0  1.0  0.0  1.0  0.0  1.0  0.0  0.0  \n",
       "4  1.0  0.0  1.0  0.0  1.0  0.0  1.0  0.0  0.0  \n",
       "\n",
       "[5 rows x 114 columns]"
      ]
     },
     "execution_count": 3,
     "metadata": {
      "tags": []
     },
     "output_type": "execute_result"
    }
   ],
   "source": [
    "data.head()"
   ]
  },
  {
   "cell_type": "code",
   "execution_count": null,
   "metadata": {
    "colab": {},
    "colab_type": "code",
    "collapsed": false,
    "deletable": true,
    "editable": true,
    "id": "j450qjqakSsb",
    "outputId": "f975b4da-aa57-4972-8b4e-92c150b99f9e"
   },
   "outputs": [
    {
     "data": {
      "text/plain": [
       "0    663430\n",
       "1    336570\n",
       "Name: 0, dtype: int64"
      ]
     },
     "execution_count": 77,
     "metadata": {
      "tags": []
     },
     "output_type": "execute_result"
    }
   ],
   "source": [
    "label.value_counts()"
   ]
  },
  {
   "cell_type": "code",
   "execution_count": null,
   "metadata": {
    "colab": {},
    "colab_type": "code",
    "collapsed": true,
    "deletable": true,
    "editable": true,
    "id": "7APM_L30kSse"
   },
   "outputs": [],
   "source": [
    "X_train,X_test,Y_train,Y_test = train_test_split(data,label,stratify=label,random_state=42)"
   ]
  },
  {
   "cell_type": "code",
   "execution_count": null,
   "metadata": {
    "colab": {},
    "colab_type": "code",
    "collapsed": true,
    "deletable": true,
    "editable": true,
    "id": "J9rUAtnckSsj"
   },
   "outputs": [],
   "source": [
    "n_features = X_train.shape[1]\n",
    "input_shape = (None,1,n_features)\n",
    "X_train,X_test,Y_train,Y_test = np.array(X_train),np.array(X_test),np.array(Y_train),np.array(Y_test)\n",
    "n_timesteps, n_features, n_outputs = 1, X_train.shape[1], 2\n",
    "X_train = X_train.reshape((X_train.shape[0],1 , 1, n_features))\n",
    "X_test = X_test.reshape((X_test.shape[0],1 , 1, n_features))\n",
    "Y_train = to_categorical(Y_train)\n",
    "Y_test = to_categorical(Y_test)"
   ]
  },
  {
   "cell_type": "code",
   "execution_count": null,
   "metadata": {
    "colab": {},
    "colab_type": "code",
    "collapsed": false,
    "deletable": true,
    "editable": true,
    "id": "TJlDOBSekSsl",
    "outputId": "4cb818a1-da43-47f2-e754-9270c486b0d5"
   },
   "outputs": [
    {
     "data": {
      "text/plain": [
       "array([[1., 0.],\n",
       "       [1., 0.],\n",
       "       [1., 0.],\n",
       "       ...,\n",
       "       [0., 1.],\n",
       "       [1., 0.],\n",
       "       [0., 1.]], dtype=float32)"
      ]
     },
     "execution_count": 93,
     "metadata": {
      "tags": []
     },
     "output_type": "execute_result"
    }
   ],
   "source": [
    "Y_test"
   ]
  },
  {
   "cell_type": "code",
   "execution_count": null,
   "metadata": {
    "colab": {},
    "colab_type": "code",
    "collapsed": true,
    "deletable": true,
    "editable": true,
    "id": "LZo3tM4jkSso"
   },
   "outputs": [],
   "source": [
    "model = Sequential()\n",
    "model.add(TimeDistributed(Conv1D(filters=64, kernel_size=1, activation='relu'), input_shape=input_shape))\n",
    "model.add(TimeDistributed(Conv1D(filters=64, kernel_size=1, activation='relu')))\n",
    "model.add(TimeDistributed(Dropout(0.5)))\n",
    "model.add(TimeDistributed(MaxPooling1D(pool_size = 1)))\n",
    "model.add(TimeDistributed(Flatten()))\n",
    "model.add(LSTM(228))\n",
    "model.add(Dropout(0.5))\n",
    "model.add(Dense(128,activation='relu'))\n",
    "model.add(Dense(n_outputs,activation = 'softmax'))"
   ]
  },
  {
   "cell_type": "code",
   "execution_count": null,
   "metadata": {
    "colab": {},
    "colab_type": "code",
    "collapsed": false,
    "deletable": true,
    "editable": true,
    "id": "HXEx7-DBkSsr",
    "outputId": "0243d9d9-3ee7-49ca-b2e3-4ee456ed6922"
   },
   "outputs": [
    {
     "name": "stdout",
     "output_type": "stream",
     "text": [
      "Train on 750000 samples, validate on 250000 samples\n",
      "Epoch 1/16\n",
      "750000/750000 [==============================] - 231s 308us/step - loss: 0.0173 - acc: 0.9781 - mean_squared_error: 0.0173 - mean_absolute_error: 0.0319 - val_loss: 0.0168 - val_acc: 0.9785 - val_mean_squared_error: 0.0168 - val_mean_absolute_error: 0.0352\n",
      "Epoch 2/16\n",
      "750000/750000 [==============================] - 226s 301us/step - loss: 0.0170 - acc: 0.9785 - mean_squared_error: 0.0170 - mean_absolute_error: 0.0309 - val_loss: 0.0170 - val_acc: 0.9785 - val_mean_squared_error: 0.0170 - val_mean_absolute_error: 0.0313\n",
      "Epoch 3/16\n",
      "750000/750000 [==============================] - 303s 404us/step - loss: 0.0167 - acc: 0.9788 - mean_squared_error: 0.0167 - mean_absolute_error: 0.0306 - val_loss: 0.0157 - val_acc: 0.9798 - val_mean_squared_error: 0.0157 - val_mean_absolute_error: 0.0331\n",
      "Epoch 4/16\n",
      "750000/750000 [==============================] - 228s 304us/step - loss: 0.0166 - acc: 0.9789 - mean_squared_error: 0.0166 - mean_absolute_error: 0.0303 - val_loss: 0.0157 - val_acc: 0.9803 - val_mean_squared_error: 0.0157 - val_mean_absolute_error: 0.0312\n",
      "Epoch 5/16\n",
      "750000/750000 [==============================] - 225s 300us/step - loss: 0.0165 - acc: 0.9790 - mean_squared_error: 0.0165 - mean_absolute_error: 0.0301 - val_loss: 0.0161 - val_acc: 0.9791 - val_mean_squared_error: 0.0161 - val_mean_absolute_error: 0.0353\n",
      "Epoch 6/16\n",
      "750000/750000 [==============================] - 213s 284us/step - loss: 0.0163 - acc: 0.9793 - mean_squared_error: 0.0163 - mean_absolute_error: 0.0297 - val_loss: 0.0155 - val_acc: 0.9802 - val_mean_squared_error: 0.0155 - val_mean_absolute_error: 0.0325\n",
      "Epoch 7/16\n",
      "750000/750000 [==============================] - 216s 288us/step - loss: 0.0161 - acc: 0.9797 - mean_squared_error: 0.0161 - mean_absolute_error: 0.0294 - val_loss: 0.0163 - val_acc: 0.9799 - val_mean_squared_error: 0.0163 - val_mean_absolute_error: 0.0270\n",
      "Epoch 8/16\n",
      "750000/750000 [==============================] - 212s 283us/step - loss: 0.0161 - acc: 0.9796 - mean_squared_error: 0.0161 - mean_absolute_error: 0.0291 - val_loss: 0.0158 - val_acc: 0.9799 - val_mean_squared_error: 0.0158 - val_mean_absolute_error: 0.0313\n",
      "Epoch 9/16\n",
      "750000/750000 [==============================] - 221s 295us/step - loss: 0.0159 - acc: 0.9799 - mean_squared_error: 0.0159 - mean_absolute_error: 0.0289 - val_loss: 0.0164 - val_acc: 0.9803 - val_mean_squared_error: 0.0164 - val_mean_absolute_error: 0.0352\n",
      "Epoch 10/16\n",
      "750000/750000 [==============================] - 228s 304us/step - loss: 0.0159 - acc: 0.9799 - mean_squared_error: 0.0159 - mean_absolute_error: 0.0288 - val_loss: 0.0155 - val_acc: 0.9802 - val_mean_squared_error: 0.0155 - val_mean_absolute_error: 0.0280\n",
      "Epoch 11/16\n",
      "750000/750000 [==============================] - 243s 324us/step - loss: 0.0158 - acc: 0.9799 - mean_squared_error: 0.0158 - mean_absolute_error: 0.0289 - val_loss: 0.0153 - val_acc: 0.9800 - val_mean_squared_error: 0.0153 - val_mean_absolute_error: 0.0291\n",
      "Epoch 12/16\n",
      "750000/750000 [==============================] - 236s 315us/step - loss: 0.0156 - acc: 0.9803 - mean_squared_error: 0.0156 - mean_absolute_error: 0.0284 - val_loss: 0.0153 - val_acc: 0.9804 - val_mean_squared_error: 0.0153 - val_mean_absolute_error: 0.0279\n",
      "Epoch 13/16\n",
      "750000/750000 [==============================] - 217s 290us/step - loss: 0.0155 - acc: 0.9803 - mean_squared_error: 0.0155 - mean_absolute_error: 0.0284 - val_loss: 0.0152 - val_acc: 0.9810 - val_mean_squared_error: 0.0152 - val_mean_absolute_error: 0.0308\n",
      "Epoch 14/16\n",
      "750000/750000 [==============================] - 225s 300us/step - loss: 0.0156 - acc: 0.9805 - mean_squared_error: 0.0156 - mean_absolute_error: 0.0284 - val_loss: 0.0152 - val_acc: 0.9801 - val_mean_squared_error: 0.0152 - val_mean_absolute_error: 0.0267\n",
      "Epoch 15/16\n",
      "750000/750000 [==============================] - 231s 308us/step - loss: 0.0155 - acc: 0.9804 - mean_squared_error: 0.0155 - mean_absolute_error: 0.0282 - val_loss: 0.0152 - val_acc: 0.9803 - val_mean_squared_error: 0.0152 - val_mean_absolute_error: 0.0251\n",
      "Epoch 16/16\n",
      "750000/750000 [==============================] - 227s 302us/step - loss: 0.0155 - acc: 0.9804 - mean_squared_error: 0.0155 - mean_absolute_error: 0.0278 - val_loss: 0.0149 - val_acc: 0.9808 - val_mean_squared_error: 0.0149 - val_mean_absolute_error: 0.0277\n"
     ]
    }
   ],
   "source": [
    "epoch, batch_size, verbose= 16,32,1\n",
    "model.compile(loss='mean_squared_error', optimizer='adam', metrics=['accuracy','mse', 'mae',])\n",
    "\t# fit network\n",
    "history = model.fit(X_train,Y_train,validation_data=(X_test, Y_test), epochs=epoch, batch_size=batch_size, verbose=verbose)\n",
    "\t# evaluate model\n"
   ]
  },
  {
   "cell_type": "code",
   "execution_count": null,
   "metadata": {
    "colab": {},
    "colab_type": "code",
    "collapsed": true,
    "deletable": true,
    "editable": true,
    "id": "2lNKs0VRkSsu"
   },
   "outputs": [],
   "source": [
    "acc = history.history['acc']\n",
    "val_acc = history.history['val_acc']\n",
    "\n",
    "loss = history.history['loss']\n",
    "val_loss = history.history['val_loss']\n",
    "\n",
    "mse = history.history['mean_squared_error']\n",
    "val_mse = history.history['val_mean_squared_error']\n",
    "\n",
    "mae = history.history['mean_absolute_error']\n",
    "val_mae = history.history['val_mean_absolute_error']"
   ]
  },
  {
   "cell_type": "code",
   "execution_count": null,
   "metadata": {
    "colab": {},
    "colab_type": "code",
    "collapsed": false,
    "deletable": true,
    "editable": true,
    "id": "BHDRg4qfkSsw",
    "outputId": "6bd3c719-2078-4d98-8ae9-3037e56094cb"
   },
   "outputs": [
    {
     "data": {
      "image/png": "[encoded data removed]",
      "text/plain": [
       "<Figure size 720x360 with 1 Axes>"
      ]
     },
     "metadata": {
      "needs_background": "light",
      "tags": []
     },
     "output_type": "display_data"
    },
    {
     "data": {
      "image/png": "[encoded data removed]",
      "text/plain": [
       "<Figure size 720x360 with 1 Axes>"
      ]
     },
     "metadata": {
      "needs_background": "light",
      "tags": []
     },
     "output_type": "display_data"
    },
    {
     "data": {
      "image/png": "[encoded data removed]",
      "text/plain": [
       "<Figure size 720x360 with 1 Axes>"
      ]
     },
     "metadata": {
      "needs_background": "light",
      "tags": []
     },
     "output_type": "display_data"
    }
   ],
   "source": [
    "epochs = [i for i in range(1,epoch+1)]\n",
    "plt.figure(num=1,figsize=(10,5))\n",
    "plt.plot(epochs,acc,label= 'Train Accuracy')\n",
    "plt.plot(epochs,val_acc,label= 'Validation Accuracy')\n",
    "plt.legend()\n",
    "plt.xlabel('Epochs',fontsize = 15)\n",
    "plt.ylabel('Accuracy',fontsize = 15)\n",
    "\n",
    "plt.figure(num=2,figsize=(10,5))\n",
    "plt.plot(epochs,loss,label= 'Train Loss')\n",
    "plt.plot(epochs,val_loss,label= 'Validation Loss')\n",
    "plt.legend()\n",
    "plt.xlabel('Epochs',fontsize = 15)\n",
    "plt.ylabel('Loss',fontsize = 15)\n",
    "\n",
    "plt.figure(num=3,figsize=(10,5))\n",
    "plt.plot(epochs,mse,label= 'Train_')\n",
    "plt.plot(epochs,val_mse,label= 'Validation Loss')\n",
    "plt.legend()\n",
    "plt.xlabel('Epochs',fontsize = 15)\n",
    "plt.ylabel('Mean Squared Error',fontsize = 15)\n",
    "\n",
    "plt.show()"
   ]
  }
 ],
 "metadata": {
  "colab": {
   "collapsed_sections": [],
   "name": "ram_url_deep_learing.ipynb",
   "provenance": []
  },
  "kernelspec": {
   "display_name": "Python 3",
   "language": "python",
   "name": "python3"
  },
  "language_info": {
   "codemirror_mode": {
    "name": "ipython",
    "version": 3
   },
   "file_extension": ".py",
   "mimetype": "text/x-python",
   "name": "python",
   "nbconvert_exporter": "python",
   "pygments_lexer": "ipython3",
   "version": "3.5.2"
  }
 },
 "nbformat": 4,
 "nbformat_minor": 0
}
